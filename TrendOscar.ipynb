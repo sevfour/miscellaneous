{
 "cells": [
  {
   "cell_type": "code",
   "execution_count": 1,
   "id": "d55d83b2-011c-495b-b80e-61a3ea3355d8",
   "metadata": {},
   "outputs": [],
   "source": [
    "import s3fs\n",
    "from os.path import dirname, join\n",
    "import time\n",
    "import xarray as xr\n",
    "import numpy as np\n",
    "# import matplotlib.pyplot as plt\n",
    "# import cartopy.crs as ccrs\n",
    "# import cartopy.feature as cfeature\n",
    "# import requests\n",
    "# import boto3\n",
    "# from pprint import pprint\n",
    "# from pyresample import kd_tree, geometry, utils\n",
    "# from pyresample.geometry import GridDefinition\n",
    "# from pathlib import Path\n",
    "# import os"
   ]
  },
  {
   "cell_type": "markdown",
   "id": "7c1e7f71-68c3-41f9-9e4c-808f3ec25591",
   "metadata": {},
   "source": [
    "### Confirm Existence of .netrc file in your home directory"
   ]
  },
  {
   "cell_type": "code",
   "execution_count": 2,
   "id": "57386fdc-dbc6-4680-bb55-9f00ce61f9ea",
   "metadata": {},
   "outputs": [],
   "source": [
    "# make a .netrc file in your home directory with the following\n",
    "# machine urs.earthdata.nasa.gov login ifenty password XCfK5QhgEGuWVgu4qRuH\n",
    "# for login and password use your EarthData login\n",
    "\n",
    "# if this command returns 1, you are good"
   ]
  },
  {
   "cell_type": "code",
   "execution_count": 3,
   "id": "eecf2c4d-e08a-433b-969b-a3916a5b2835",
   "metadata": {},
   "outputs": [
    {
     "name": "stdout",
     "output_type": "stream",
     "text": [
      "1\n"
     ]
    }
   ],
   "source": [
    "!cat ~/.netrc | grep 'urs.earthdata.nasa.gov' | wc -l"
   ]
  },
  {
   "cell_type": "markdown",
   "id": "141781b6-ba5c-4ce9-b75c-21cb6de804a0",
   "metadata": {},
   "source": [
    "### Get credentials"
   ]
  },
  {
   "cell_type": "code",
   "execution_count": 4,
   "id": "cde8c5c8-dc3c-47cb-8c21-ac22cb0fa26e",
   "metadata": {},
   "outputs": [],
   "source": [
    "%%capture\n",
    "import requests\n",
    "\n",
    "def store_aws_keys(endpoint: str=\"https://archive.podaac.earthdata.nasa.gov/s3credentials\"):    \n",
    "    with requests.get(endpoint, \"w\") as r:\n",
    "        accessKeyId, secretAccessKey, sessionToken, expiration = list(r.json().values())\n",
    "\n",
    "    creds ={}\n",
    "    creds['AccessKeyId'] = accessKeyId\n",
    "    creds['SecretAccessKey'] = secretAccessKey\n",
    "    creds['SessionToken'] = sessionToken\n",
    "    creds['expiration'] = expiration\n",
    "    \n",
    "    return creds\n",
    "\n",
    "creds = store_aws_keys()\n",
    "print(creds)"
   ]
  },
  {
   "cell_type": "code",
   "execution_count": 5,
   "id": "08fe3d46-9c67-4bb8-9556-ba9022144619",
   "metadata": {},
   "outputs": [
    {
     "name": "stdout",
     "output_type": "stream",
     "text": [
      "\n",
      "The current session token expires at 2024-11-07 23:54:54+00:00.\n",
      "\n"
     ]
    }
   ],
   "source": [
    "print(f\"\\nThe current session token expires at {creds['expiration']}.\\n\")"
   ]
  },
  {
   "cell_type": "markdown",
   "id": "818c12c1-84a4-454d-9cc4-4a5ab8e04254",
   "metadata": {
    "tags": []
   },
   "source": [
    "## Make a \"direct connection\" to the S3 file system"
   ]
  },
  {
   "cell_type": "code",
   "execution_count": 6,
   "id": "5b2a9a6f-c4d5-460e-b0a3-2136d6080b5b",
   "metadata": {
    "tags": []
   },
   "outputs": [],
   "source": [
    "ShortName1 = \"OSCAR_L4_OC_FINAL_V2.0\"\n",
    "ShortName2 = \"OSCAR_L4_OC_INTERIM_V2.0\""
   ]
  },
  {
   "cell_type": "code",
   "execution_count": 7,
   "id": "b2bba2c8-2ab3-40c3-8af4-4562c0e907eb",
   "metadata": {},
   "outputs": [],
   "source": [
    "# Ask PODAAC for the collection id1\n",
    "response = requests.get(\n",
    "    url='https://cmr.earthdata.nasa.gov/search/collections.umm_json', \n",
    "    params={'provider': \"POCLOUD\",\n",
    "            'ShortName': ShortName1,\n",
    "            'page_size': 1}\n",
    ")"
   ]
  },
  {
   "cell_type": "code",
   "execution_count": 8,
   "id": "2f7bb5a4-68ea-415e-946e-2c90fb3532c5",
   "metadata": {},
   "outputs": [],
   "source": [
    "s3 = s3fs.S3FileSystem(\n",
    "    key=creds['AccessKeyId'],\n",
    "    secret=creds['SecretAccessKey'],\n",
    "    token=creds['SessionToken'],\n",
    "    client_kwargs={'region_name':'us-west-2'},\n",
    ")"
   ]
  },
  {
   "cell_type": "code",
   "execution_count": 9,
   "id": "2aef658e-4297-4a1d-9c42-807fedcf3680",
   "metadata": {},
   "outputs": [],
   "source": [
    "# make a S3 'filesystem' object\n",
    "fs1 = s3fs.S3FileSystem(anon=False,\n",
    "                      key=creds['AccessKeyId'],\n",
    "                      secret=creds['SecretAccessKey'],\n",
    "                      token=creds['SessionToken'])"
   ]
  },
  {
   "cell_type": "code",
   "execution_count": 10,
   "id": "e71f7cfe-3271-48c7-9755-04185d953097",
   "metadata": {},
   "outputs": [],
   "source": [
    "# Ask PODAAC for the collection id2\n",
    "response = requests.get(\n",
    "    url='https://cmr.earthdata.nasa.gov/search/collections.umm_json', \n",
    "    params={'provider': \"POCLOUD\",\n",
    "            'ShortName': ShortName2,\n",
    "            'page_size': 1}\n",
    ")"
   ]
  },
  {
   "cell_type": "code",
   "execution_count": 11,
   "id": "a94bb755-22a5-4056-96d4-f1ce702f2e50",
   "metadata": {},
   "outputs": [],
   "source": [
    "s3 = s3fs.S3FileSystem(\n",
    "    key=creds['AccessKeyId'],\n",
    "    secret=creds['SecretAccessKey'],\n",
    "    token=creds['SessionToken'],\n",
    "    client_kwargs={'region_name':'us-west-2'},\n",
    ")"
   ]
  },
  {
   "cell_type": "code",
   "execution_count": 12,
   "id": "44c016dd-6481-4ffb-a5d7-44022925788a",
   "metadata": {},
   "outputs": [],
   "source": [
    "# make a S3 'filesystem' object\n",
    "fs2 = s3fs.S3FileSystem(anon=False,\n",
    "                      key=creds['AccessKeyId'],\n",
    "                      secret=creds['SecretAccessKey'],\n",
    "                      token=creds['SessionToken'])"
   ]
  },
  {
   "cell_type": "markdown",
   "id": "0ccee2f0-5044-4799-b8c2-d1fbd7d800e0",
   "metadata": {},
   "source": [
    "## Load all of the files for this year from AWS S3 using 'direct connection' and combine into a single xarray DataSet object\n",
    "\n",
    "Note: this takes a minute."
   ]
  },
  {
   "cell_type": "code",
   "execution_count": 13,
   "id": "1d6628b1-12aa-46a1-9510-e225f3ad3a5d",
   "metadata": {},
   "outputs": [],
   "source": [
    "# from dask.distributed import Client\n",
    "\n",
    "# client = Client(\"tcp://127.0.0.1:38643\")\n",
    "# client"
   ]
  },
  {
   "cell_type": "code",
   "execution_count": 16,
   "id": "c066d3b3-0ad1-4560-86f3-2c5cd9a7b245",
   "metadata": {},
   "outputs": [],
   "source": [
    "start_time = time.time()\n",
    "oscar_files = fs1.glob(join(\"podaac-ops-cumulus-protected/\", ShortName1, '*.nc'))\n",
    "paths1=[fs1.open(f) for f in oscar_files]\n",
    "oscar_files = fs2.glob(join(\"podaac-ops-cumulus-protected/\", ShortName2, '*.nc'))\n",
    "paths2=[fs2.open(f) for f in oscar_files]"
   ]
  },
  {
   "cell_type": "code",
   "execution_count": null,
   "id": "093621f1-727d-4fdf-839b-f190dcacea01",
   "metadata": {},
   "outputs": [],
   "source": [
    "oscar_final = xr.open_mfdataset(\n",
    "    paths=paths1,\n",
    "    combine='nested',\n",
    "    concat_dim='time',\n",
    "    decode_cf=True,\n",
    "    coords='minimal',\n",
    "    chunks={'time': 1}  \n",
    ")\n",
    "oscar_interim = xr.open_mfdataset(\n",
    "    paths=paths2,\n",
    "    combine='nested',\n",
    "    concat_dim='time',\n",
    "    decode_cf=True,\n",
    "    coords='minimal',\n",
    "    chunks={'time': 1}  \n",
    ")\n",
    "print(time.time() - start_time)"
   ]
  },
  {
   "cell_type": "code",
   "execution_count": null,
   "id": "a5f9c289-61bc-4f9c-86dc-ec0b646f3ecc",
   "metadata": {},
   "outputs": [],
   "source": [
    "oscar_final"
   ]
  },
  {
   "cell_type": "code",
   "execution_count": null,
   "id": "f1dbfaaf-c99e-4b40-bfbb-93a20a7ea505",
   "metadata": {},
   "outputs": [],
   "source": [
    "oscar_interim"
   ]
  },
  {
   "cell_type": "code",
   "execution_count": null,
   "id": "8fbe356d-e836-444d-8550-2be0720b1994",
   "metadata": {},
   "outputs": [],
   "source": []
  }
 ],
 "metadata": {
  "kernelspec": {
   "display_name": "Python 3 (ipykernel)",
   "language": "python",
   "name": "python3"
  },
  "language_info": {
   "codemirror_mode": {
    "name": "ipython",
    "version": 3
   },
   "file_extension": ".py",
   "mimetype": "text/x-python",
   "name": "python",
   "nbconvert_exporter": "python",
   "pygments_lexer": "ipython3",
   "version": "3.11.8"
  }
 },
 "nbformat": 4,
 "nbformat_minor": 5
}
